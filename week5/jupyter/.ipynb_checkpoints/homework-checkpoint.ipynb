{
 "cells": [
  {
   "cell_type": "code",
   "execution_count": 1,
   "id": "a032cc26",
   "metadata": {},
   "outputs": [],
   "source": [
    "import pyspark\n",
    "from pyspark.sql import SparkSession\n",
    "from pyspark.sql import types"
   ]
  },
  {
   "cell_type": "code",
   "execution_count": 2,
   "id": "3c42c31c",
   "metadata": {},
   "outputs": [
    {
     "name": "stderr",
     "output_type": "stream",
     "text": [
      "/usr/local/lib/python3.9/dist-packages/pyspark/bin/load-spark-env.sh: line 68: ps: command not found\n",
      "Setting default log level to \"WARN\".\n",
      "To adjust logging level use sc.setLogLevel(newLevel). For SparkR, use setLogLevel(newLevel).\n"
     ]
    },
    {
     "name": "stdout",
     "output_type": "stream",
     "text": [
      "23/03/06 09:39:42 WARN NativeCodeLoader: Unable to load native-hadoop library for your platform... using builtin-java classes where applicable\n"
     ]
    }
   ],
   "source": [
    "spark = SparkSession.builder \\\n",
    "    .master(\"local[*]\") \\\n",
    "    .appName('test') \\\n",
    "    .getOrCreate()"
   ]
  },
  {
   "cell_type": "code",
   "execution_count": 3,
   "id": "48655ecd",
   "metadata": {},
   "outputs": [
    {
     "data": {
      "text/plain": [
       "'3.3.2'"
      ]
     },
     "execution_count": 3,
     "metadata": {},
     "output_type": "execute_result"
    }
   ],
   "source": [
    "spark.version"
   ]
  },
  {
   "cell_type": "code",
   "execution_count": 9,
   "id": "54530516",
   "metadata": {},
   "outputs": [
    {
     "name": "stderr",
     "output_type": "stream",
     "text": [
      "[Stage 2:>                                                         (0 + 8) / 12]\r"
     ]
    },
    {
     "name": "stdout",
     "output_type": "stream",
     "text": [
      "23/03/06 09:44:51 WARN MemoryManager: Total allocation exceeds 95.00% (906,992,014 bytes) of heap memory\n",
      "Scaling row group sizes to 96.54% for 7 writers\n",
      "23/03/06 09:44:51 WARN MemoryManager: Total allocation exceeds 95.00% (906,992,014 bytes) of heap memory\n",
      "Scaling row group sizes to 84.47% for 8 writers\n"
     ]
    }
   ],
   "source": [
    "schema = types.StructType([\n",
    "    types.StructField('dispatching_base_num', types.StringType(), True),\n",
    "    types.StructField('pickup_datetime', types.TimestampType(), True),\n",
    "    types.StructField('dropoff_datetime', types.TimestampType(), True),\n",
    "    types.StructField('PULocationID', types.IntegerType(), True),\n",
    "    types.StructField('DOLocationID', types.IntegerType(), True),\n",
    "    types.StructField('SR_Flag', types.StringType(), True),\n",
    "    types.StructField('Affiliated_base_number', types.StringType(), True)\n",
    "])"
   ]
  },
  {
   "cell_type": "code",
   "execution_count": 5,
   "id": "80c6dfa6",
   "metadata": {},
   "outputs": [
    {
     "name": "stdout",
     "output_type": "stream",
     "text": [
      "fhvhv_tripdata_2021-06.csv\n"
     ]
    }
   ],
   "source": [
    "!ls /opt/workspace/data/raw/fhvhv/2021/06"
   ]
  },
  {
   "cell_type": "code",
   "execution_count": null,
   "id": "43dabd40",
   "metadata": {},
   "outputs": [],
   "source": [
    "dispatching_base_num,pickup_datetime,dropoff_datetime,PULocationID,DOLocationID,SR_Flag,Affiliated_base_number"
   ]
  },
  {
   "cell_type": "code",
   "execution_count": 10,
   "id": "44ff585e",
   "metadata": {},
   "outputs": [
    {
     "name": "stdout",
     "output_type": "stream",
     "text": [
      "23/03/06 09:45:05 WARN MemoryManager: Total allocation exceeds 95.00% (906,992,014 bytes) of heap memory\n",
      "Scaling row group sizes to 96.54% for 7 writers\n"
     ]
    },
    {
     "name": "stderr",
     "output_type": "stream",
     "text": [
      "[Stage 2:======================================>                   (8 + 4) / 12]\r"
     ]
    }
   ],
   "source": [
    "df = spark.read \\\n",
    "    .option(\"header\", \"true\") \\\n",
    "    .schema(schema) \\\n",
    "    .csv('../data/raw/fhvhv/2021/06/fhvhv_tripdata_2021-06.csv')"
   ]
  },
  {
   "cell_type": "code",
   "execution_count": 11,
   "id": "a7783eb3",
   "metadata": {},
   "outputs": [
    {
     "name": "stderr",
     "output_type": "stream",
     "text": [
      "                                                                                \r"
     ]
    }
   ],
   "source": [
    "df = df.repartition(12)"
   ]
  },
  {
   "cell_type": "code",
   "execution_count": 14,
   "id": "502f7b14",
   "metadata": {},
   "outputs": [
    {
     "name": "stderr",
     "output_type": "stream",
     "text": [
      "[Stage 5:>                                                         (0 + 8) / 12]\r"
     ]
    },
    {
     "name": "stdout",
     "output_type": "stream",
     "text": [
      "23/03/06 09:46:39 WARN MemoryManager: Total allocation exceeds 95.00% (906,992,014 bytes) of heap memory\n",
      "Scaling row group sizes to 96.54% for 7 writers\n",
      "23/03/06 09:46:39 WARN MemoryManager: Total allocation exceeds 95.00% (906,992,014 bytes) of heap memory\n",
      "Scaling row group sizes to 84.47% for 8 writers\n",
      "23/03/06 09:46:58 WARN MemoryManager: Total allocation exceeds 95.00% (906,992,014 bytes) of heap memory\n",
      "Scaling row group sizes to 96.54% for 7 writers\n"
     ]
    },
    {
     "name": "stderr",
     "output_type": "stream",
     "text": [
      "[Stage 5:====>                                                     (1 + 8) / 12]\r"
     ]
    },
    {
     "name": "stdout",
     "output_type": "stream",
     "text": [
      "23/03/06 09:46:59 WARN MemoryManager: Total allocation exceeds 95.00% (906,992,014 bytes) of heap memory\n",
      "Scaling row group sizes to 96.54% for 7 writers\n"
     ]
    },
    {
     "name": "stderr",
     "output_type": "stream",
     "text": [
      "[Stage 5:==============>                                           (3 + 8) / 12]\r"
     ]
    },
    {
     "name": "stdout",
     "output_type": "stream",
     "text": [
      "23/03/06 09:46:59 WARN MemoryManager: Total allocation exceeds 95.00% (906,992,014 bytes) of heap memory\n",
      "Scaling row group sizes to 96.54% for 7 writers\n",
      "23/03/06 09:47:00 WARN MemoryManager: Total allocation exceeds 95.00% (906,992,014 bytes) of heap memory\n",
      "Scaling row group sizes to 84.47% for 8 writers\n",
      "23/03/06 09:47:00 WARN MemoryManager: Total allocation exceeds 95.00% (906,992,014 bytes) of heap memory\n",
      "Scaling row group sizes to 96.54% for 7 writers\n"
     ]
    },
    {
     "name": "stderr",
     "output_type": "stream",
     "text": [
      "                                                                                \r"
     ]
    }
   ],
   "source": [
    "df.write.parquet('../data/pq/fhvhv/2021/06', mode='overwrite')"
   ]
  },
  {
   "cell_type": "code",
   "execution_count": 49,
   "id": "d24bfb2d",
   "metadata": {},
   "outputs": [],
   "source": [
    "df = spark.read.parquet('../data/pq/fhvhv/2021/06')"
   ]
  },
  {
   "cell_type": "code",
   "execution_count": 50,
   "id": "5ba5ca73",
   "metadata": {},
   "outputs": [
    {
     "name": "stdout",
     "output_type": "stream",
     "text": [
      "+--------------------+-------------------+-------------------+------------+------------+-------+----------------------+\n",
      "|dispatching_base_num|    pickup_datetime|   dropoff_datetime|PULocationID|DOLocationID|SR_Flag|Affiliated_base_number|\n",
      "+--------------------+-------------------+-------------------+------------+------------+-------+----------------------+\n",
      "|              B02864|2021-06-04 14:18:02|2021-06-04 15:04:26|         231|         138|      N|                B02864|\n",
      "|              B02884|2021-06-03 12:30:12|2021-06-03 12:41:25|         207|         170|      N|                B02884|\n",
      "|              B02764|2021-06-03 00:13:00|2021-06-03 00:19:53|          63|          63|      N|                B02764|\n",
      "|              B02875|2021-06-01 09:31:21|2021-06-01 09:56:41|         242|         169|      N|                B02875|\n",
      "|              B02872|2021-06-04 21:45:04|2021-06-04 22:08:29|         144|         168|      N|                B02872|\n",
      "|              B02866|2021-06-03 16:26:21|2021-06-03 16:50:47|          48|         140|      N|                B02866|\n",
      "|              B02869|2021-06-01 15:17:21|2021-06-01 16:17:42|         230|         130|      N|                B02869|\n",
      "|              B02880|2021-06-01 08:43:45|2021-06-01 09:00:18|         239|         230|      N|                B02880|\n",
      "|              B02888|2021-06-04 11:37:25|2021-06-04 11:47:06|         115|         206|      N|                B02888|\n",
      "|              B02867|2021-06-02 19:48:07|2021-06-02 20:05:13|         170|         143|      N|                B02867|\n",
      "|              B02872|2021-06-03 10:59:56|2021-06-03 11:07:38|         178|          26|      N|                B02872|\n",
      "|              B02764|2021-06-02 20:48:54|2021-06-02 21:00:38|          79|         234|      N|                B02764|\n",
      "|              B02765|2021-06-04 07:46:02|2021-06-04 07:51:50|         130|         130|      N|                B02765|\n",
      "|              B02875|2021-06-01 13:28:55|2021-06-01 13:58:03|          61|          76|      N|                B02875|\n",
      "|              B02835|2021-06-02 09:04:19|2021-06-02 09:21:28|         131|         197|      N|                B02835|\n",
      "|              B02882|2021-06-03 09:52:34|2021-06-03 10:21:03|          76|          85|      N|                B02882|\n",
      "|              B02835|2021-06-04 14:57:12|2021-06-04 15:09:39|          40|         228|      N|                B02835|\n",
      "|              B02872|2021-06-03 07:34:23|2021-06-03 07:53:20|         162|          13|      N|                B02872|\n",
      "|              B02876|2021-06-04 02:27:53|2021-06-04 02:35:25|          72|         188|      N|                B02876|\n",
      "|              B02510|2021-06-03 12:04:52|2021-06-03 12:09:57|         188|         188|      N|                  null|\n",
      "+--------------------+-------------------+-------------------+------------+------------+-------+----------------------+\n",
      "only showing top 20 rows\n",
      "\n"
     ]
    }
   ],
   "source": [
    "df.show()"
   ]
  },
  {
   "cell_type": "code",
   "execution_count": 23,
   "id": "d92ef887",
   "metadata": {},
   "outputs": [
    {
     "name": "stdout",
     "output_type": "stream",
     "text": [
      "total 277684\n",
      "drwxrwxrwx 1 1000 1000     4096 Mar  6 09:47 .\n",
      "drwxrwxrwx 1 1000 1000     4096 Mar  6 09:46 ..\n",
      "-rwxrwxrwx 1 1000 1000        8 Mar  6 09:47 ._SUCCESS.crc\n",
      "-rwxrwxrwx 1 1000 1000   183724 Mar  6 09:47 .part-00000-7bfb5d0d-9139-4776-a02d-fb8a2a1a4535-c000.snappy.parquet.crc\n",
      "-rwxrwxrwx 1 1000 1000   183656 Mar  6 09:47 .part-00001-7bfb5d0d-9139-4776-a02d-fb8a2a1a4535-c000.snappy.parquet.crc\n",
      "-rwxrwxrwx 1 1000 1000   183660 Mar  6 09:46 .part-00002-7bfb5d0d-9139-4776-a02d-fb8a2a1a4535-c000.snappy.parquet.crc\n",
      "-rwxrwxrwx 1 1000 1000   183692 Mar  6 09:47 .part-00003-7bfb5d0d-9139-4776-a02d-fb8a2a1a4535-c000.snappy.parquet.crc\n",
      "-rwxrwxrwx 1 1000 1000   183684 Mar  6 09:47 .part-00004-7bfb5d0d-9139-4776-a02d-fb8a2a1a4535-c000.snappy.parquet.crc\n",
      "-rwxrwxrwx 1 1000 1000   183716 Mar  6 09:46 .part-00005-7bfb5d0d-9139-4776-a02d-fb8a2a1a4535-c000.snappy.parquet.crc\n",
      "-rwxrwxrwx 1 1000 1000   183696 Mar  6 09:46 .part-00006-7bfb5d0d-9139-4776-a02d-fb8a2a1a4535-c000.snappy.parquet.crc\n",
      "-rwxrwxrwx 1 1000 1000   183708 Mar  6 09:47 .part-00007-7bfb5d0d-9139-4776-a02d-fb8a2a1a4535-c000.snappy.parquet.crc\n",
      "-rwxrwxrwx 1 1000 1000   183536 Mar  6 09:47 .part-00008-7bfb5d0d-9139-4776-a02d-fb8a2a1a4535-c000.snappy.parquet.crc\n",
      "-rwxrwxrwx 1 1000 1000   183696 Mar  6 09:47 .part-00009-7bfb5d0d-9139-4776-a02d-fb8a2a1a4535-c000.snappy.parquet.crc\n",
      "-rwxrwxrwx 1 1000 1000   183720 Mar  6 09:47 .part-00010-7bfb5d0d-9139-4776-a02d-fb8a2a1a4535-c000.snappy.parquet.crc\n",
      "-rwxrwxrwx 1 1000 1000   183624 Mar  6 09:47 .part-00011-7bfb5d0d-9139-4776-a02d-fb8a2a1a4535-c000.snappy.parquet.crc\n",
      "-rwxrwxrwx 1 1000 1000        0 Mar  6 09:47 _SUCCESS\n",
      "-rwxrwxrwx 1 1000 1000 23515285 Mar  6 09:47 part-00000-7bfb5d0d-9139-4776-a02d-fb8a2a1a4535-c000.snappy.parquet\n",
      "-rwxrwxrwx 1 1000 1000 23506694 Mar  6 09:47 part-00001-7bfb5d0d-9139-4776-a02d-fb8a2a1a4535-c000.snappy.parquet\n",
      "-rwxrwxrwx 1 1000 1000 23507261 Mar  6 09:46 part-00002-7bfb5d0d-9139-4776-a02d-fb8a2a1a4535-c000.snappy.parquet\n",
      "-rwxrwxrwx 1 1000 1000 23511306 Mar  6 09:47 part-00003-7bfb5d0d-9139-4776-a02d-fb8a2a1a4535-c000.snappy.parquet\n",
      "-rwxrwxrwx 1 1000 1000 23510300 Mar  6 09:47 part-00004-7bfb5d0d-9139-4776-a02d-fb8a2a1a4535-c000.snappy.parquet\n",
      "-rwxrwxrwx 1 1000 1000 23514137 Mar  6 09:46 part-00005-7bfb5d0d-9139-4776-a02d-fb8a2a1a4535-c000.snappy.parquet\n",
      "-rwxrwxrwx 1 1000 1000 23511960 Mar  6 09:46 part-00006-7bfb5d0d-9139-4776-a02d-fb8a2a1a4535-c000.snappy.parquet\n",
      "-rwxrwxrwx 1 1000 1000 23513233 Mar  6 09:47 part-00007-7bfb5d0d-9139-4776-a02d-fb8a2a1a4535-c000.snappy.parquet\n",
      "-rwxrwxrwx 1 1000 1000 23491231 Mar  6 09:47 part-00008-7bfb5d0d-9139-4776-a02d-fb8a2a1a4535-c000.snappy.parquet\n",
      "-rwxrwxrwx 1 1000 1000 23511565 Mar  6 09:47 part-00009-7bfb5d0d-9139-4776-a02d-fb8a2a1a4535-c000.snappy.parquet\n",
      "-rwxrwxrwx 1 1000 1000 23514690 Mar  6 09:47 part-00010-7bfb5d0d-9139-4776-a02d-fb8a2a1a4535-c000.snappy.parquet\n",
      "-rwxrwxrwx 1 1000 1000 23502387 Mar  6 09:47 part-00011-7bfb5d0d-9139-4776-a02d-fb8a2a1a4535-c000.snappy.parquet\n"
     ]
    }
   ],
   "source": [
    "!ls -la '../data/pq/fhvhv/2021/06'"
   ]
  },
  {
   "cell_type": "code",
   "execution_count": 24,
   "id": "79cf7a00",
   "metadata": {},
   "outputs": [],
   "source": [
    "from pyspark.sql import functions as F"
   ]
  },
  {
   "cell_type": "code",
   "execution_count": 26,
   "id": "c72c25c0",
   "metadata": {},
   "outputs": [
    {
     "name": "stderr",
     "output_type": "stream",
     "text": [
      "                                                                                \r"
     ]
    },
    {
     "data": {
      "text/plain": [
       "452470"
      ]
     },
     "execution_count": 26,
     "metadata": {},
     "output_type": "execute_result"
    }
   ],
   "source": [
    "df \\\n",
    "    .withColumn('pickup_date', F.to_date(df.pickup_datetime)) \\\n",
    "    .filter(\"pickup_date = '2021-06-15'\") \\\n",
    "    .count()"
   ]
  },
  {
   "cell_type": "code",
   "execution_count": 56,
   "id": "784c25f1",
   "metadata": {},
   "outputs": [],
   "source": [
    "df.registerTempTable('fhvhv_2021_06')"
   ]
  },
  {
   "cell_type": "code",
   "execution_count": 29,
   "id": "bb1e9994",
   "metadata": {},
   "outputs": [
    {
     "name": "stderr",
     "output_type": "stream",
     "text": [
      "[Stage 16:======================================>                  (8 + 4) / 12]\r"
     ]
    },
    {
     "name": "stdout",
     "output_type": "stream",
     "text": [
      "+--------+\n",
      "|count(1)|\n",
      "+--------+\n",
      "|  452470|\n",
      "+--------+\n",
      "\n"
     ]
    },
    {
     "name": "stderr",
     "output_type": "stream",
     "text": [
      "                                                                                \r"
     ]
    }
   ],
   "source": [
    "spark.sql(\"\"\"\n",
    "SELECT\n",
    "    COUNT(1)\n",
    "FROM \n",
    "    fhvhv_2021_06\n",
    "WHERE\n",
    "    to_date(pickup_datetime) = '2021-06-15';\n",
    "\"\"\").show()"
   ]
  },
  {
   "cell_type": "code",
   "execution_count": 37,
   "id": "83824a76",
   "metadata": {},
   "outputs": [
    {
     "name": "stderr",
     "output_type": "stream",
     "text": [
      "[Stage 37:======================================>                  (8 + 4) / 12]\r"
     ]
    },
    {
     "name": "stdout",
     "output_type": "stream",
     "text": [
      "+-----------+------------------+\n",
      "|pickup_date|     max(duration)|\n",
      "+-----------+------------------+\n",
      "| 2021-06-25|  66.8788888888889|\n",
      "| 2021-06-22|25.549722222222222|\n",
      "| 2021-06-27|19.980833333333333|\n",
      "| 2021-06-26|18.197222222222223|\n",
      "| 2021-06-23|16.466944444444444|\n",
      "+-----------+------------------+\n",
      "\n"
     ]
    },
    {
     "name": "stderr",
     "output_type": "stream",
     "text": [
      "                                                                                \r"
     ]
    }
   ],
   "source": [
    "df \\\n",
    "    .withColumn('duration', (df.dropoff_datetime.cast('long') - df.pickup_datetime.cast('long'))/3600  ) \\\n",
    "    .withColumn('pickup_date', F.to_date(df.pickup_datetime)) \\\n",
    "    .groupBy('pickup_date') \\\n",
    "    .max('duration') \\\n",
    "    .orderBy('max(duration)', ascending=False) \\\n",
    "    .limit(5) \\\n",
    "    .show()"
   ]
  },
  {
   "cell_type": "code",
   "execution_count": 60,
   "id": "1bf802fe",
   "metadata": {},
   "outputs": [
    {
     "name": "stderr",
     "output_type": "stream",
     "text": [
      "[Stage 62:======================================>                  (8 + 4) / 12]\r"
     ]
    },
    {
     "name": "stdout",
     "output_type": "stream",
     "text": [
      "+-----------+------------------+\n",
      "|pickup_date|          duration|\n",
      "+-----------+------------------+\n",
      "| 2021-06-25|  66.8788888888889|\n",
      "| 2021-06-22|25.549722222222222|\n",
      "| 2021-06-27|19.980833333333333|\n",
      "| 2021-06-26|18.197222222222223|\n",
      "| 2021-06-23|16.466944444444444|\n",
      "| 2021-06-24|13.909722222222221|\n",
      "| 2021-06-04|             11.67|\n",
      "| 2021-06-20|10.984444444444444|\n",
      "| 2021-06-01|           10.2675|\n",
      "| 2021-06-28| 9.966388888888888|\n",
      "+-----------+------------------+\n",
      "\n"
     ]
    },
    {
     "name": "stderr",
     "output_type": "stream",
     "text": [
      "                                                                                \r"
     ]
    }
   ],
   "source": [
    "spark.sql(\"\"\"\n",
    "SELECT\n",
    "    to_date(pickup_datetime) AS pickup_date,\n",
    "    MAX((CAST(dropoff_datetime AS LONG) - CAST(pickup_datetime AS LONG)) / 3600) AS duration\n",
    "FROM \n",
    "    fhvhv_2021_06\n",
    "GROUP BY\n",
    "    1\n",
    "ORDER BY\n",
    "    2 DESC\n",
    "LIMIT 10;\n",
    "\"\"\").show()"
   ]
  },
  {
   "cell_type": "code",
   "execution_count": 43,
   "id": "84fa3b17",
   "metadata": {},
   "outputs": [],
   "source": [
    "df_zones = spark.read \\\n",
    "    .option(\"header\", \"true\") \\\n",
    "    .csv('../data/taxi+_zone_lookup.csv')"
   ]
  },
  {
   "cell_type": "code",
   "execution_count": 44,
   "id": "465247cc",
   "metadata": {},
   "outputs": [
    {
     "name": "stdout",
     "output_type": "stream",
     "text": [
      "+----------+-------------+--------------------+------------+\n",
      "|LocationID|      Borough|                Zone|service_zone|\n",
      "+----------+-------------+--------------------+------------+\n",
      "|         1|          EWR|      Newark Airport|         EWR|\n",
      "|         2|       Queens|         Jamaica Bay|   Boro Zone|\n",
      "|         3|        Bronx|Allerton/Pelham G...|   Boro Zone|\n",
      "|         4|    Manhattan|       Alphabet City| Yellow Zone|\n",
      "|         5|Staten Island|       Arden Heights|   Boro Zone|\n",
      "|         6|Staten Island|Arrochar/Fort Wad...|   Boro Zone|\n",
      "|         7|       Queens|             Astoria|   Boro Zone|\n",
      "|         8|       Queens|        Astoria Park|   Boro Zone|\n",
      "|         9|       Queens|          Auburndale|   Boro Zone|\n",
      "|        10|       Queens|        Baisley Park|   Boro Zone|\n",
      "|        11|     Brooklyn|          Bath Beach|   Boro Zone|\n",
      "|        12|    Manhattan|        Battery Park| Yellow Zone|\n",
      "|        13|    Manhattan|   Battery Park City| Yellow Zone|\n",
      "|        14|     Brooklyn|           Bay Ridge|   Boro Zone|\n",
      "|        15|       Queens|Bay Terrace/Fort ...|   Boro Zone|\n",
      "|        16|       Queens|             Bayside|   Boro Zone|\n",
      "|        17|     Brooklyn|             Bedford|   Boro Zone|\n",
      "|        18|        Bronx|        Bedford Park|   Boro Zone|\n",
      "|        19|       Queens|           Bellerose|   Boro Zone|\n",
      "|        20|        Bronx|             Belmont|   Boro Zone|\n",
      "+----------+-------------+--------------------+------------+\n",
      "only showing top 20 rows\n",
      "\n"
     ]
    }
   ],
   "source": [
    "df_zones.show()"
   ]
  },
  {
   "cell_type": "code",
   "execution_count": 46,
   "id": "95210910",
   "metadata": {},
   "outputs": [],
   "source": [
    "df_zones.write.parquet('../data/zones', mode='overwrite')"
   ]
  },
  {
   "cell_type": "code",
   "execution_count": 51,
   "id": "5434a30f",
   "metadata": {},
   "outputs": [
    {
     "name": "stdout",
     "output_type": "stream",
     "text": [
      "+--------------------+-------------------+-------------------+------------+------------+-------+----------------------+\n",
      "|dispatching_base_num|    pickup_datetime|   dropoff_datetime|PULocationID|DOLocationID|SR_Flag|Affiliated_base_number|\n",
      "+--------------------+-------------------+-------------------+------------+------------+-------+----------------------+\n",
      "|              B02864|2021-06-04 14:18:02|2021-06-04 15:04:26|         231|         138|      N|                B02864|\n",
      "|              B02884|2021-06-03 12:30:12|2021-06-03 12:41:25|         207|         170|      N|                B02884|\n",
      "|              B02764|2021-06-03 00:13:00|2021-06-03 00:19:53|          63|          63|      N|                B02764|\n",
      "|              B02875|2021-06-01 09:31:21|2021-06-01 09:56:41|         242|         169|      N|                B02875|\n",
      "|              B02872|2021-06-04 21:45:04|2021-06-04 22:08:29|         144|         168|      N|                B02872|\n",
      "|              B02866|2021-06-03 16:26:21|2021-06-03 16:50:47|          48|         140|      N|                B02866|\n",
      "|              B02869|2021-06-01 15:17:21|2021-06-01 16:17:42|         230|         130|      N|                B02869|\n",
      "|              B02880|2021-06-01 08:43:45|2021-06-01 09:00:18|         239|         230|      N|                B02880|\n",
      "|              B02888|2021-06-04 11:37:25|2021-06-04 11:47:06|         115|         206|      N|                B02888|\n",
      "|              B02867|2021-06-02 19:48:07|2021-06-02 20:05:13|         170|         143|      N|                B02867|\n",
      "|              B02872|2021-06-03 10:59:56|2021-06-03 11:07:38|         178|          26|      N|                B02872|\n",
      "|              B02764|2021-06-02 20:48:54|2021-06-02 21:00:38|          79|         234|      N|                B02764|\n",
      "|              B02765|2021-06-04 07:46:02|2021-06-04 07:51:50|         130|         130|      N|                B02765|\n",
      "|              B02875|2021-06-01 13:28:55|2021-06-01 13:58:03|          61|          76|      N|                B02875|\n",
      "|              B02835|2021-06-02 09:04:19|2021-06-02 09:21:28|         131|         197|      N|                B02835|\n",
      "|              B02882|2021-06-03 09:52:34|2021-06-03 10:21:03|          76|          85|      N|                B02882|\n",
      "|              B02835|2021-06-04 14:57:12|2021-06-04 15:09:39|          40|         228|      N|                B02835|\n",
      "|              B02872|2021-06-03 07:34:23|2021-06-03 07:53:20|         162|          13|      N|                B02872|\n",
      "|              B02876|2021-06-04 02:27:53|2021-06-04 02:35:25|          72|         188|      N|                B02876|\n",
      "|              B02510|2021-06-03 12:04:52|2021-06-03 12:09:57|         188|         188|      N|                  null|\n",
      "+--------------------+-------------------+-------------------+------------+------------+-------+----------------------+\n",
      "only showing top 20 rows\n",
      "\n"
     ]
    }
   ],
   "source": [
    "df.show()"
   ]
  },
  {
   "cell_type": "code",
   "execution_count": 52,
   "id": "a6329387",
   "metadata": {},
   "outputs": [],
   "source": [
    "df_zones.registerTempTable('zones')"
   ]
  },
  {
   "cell_type": "code",
   "execution_count": 62,
   "id": "8784e9f3",
   "metadata": {},
   "outputs": [
    {
     "name": "stderr",
     "output_type": "stream",
     "text": [
      "[Stage 72:======================================>                  (8 + 4) / 12]\r"
     ]
    },
    {
     "name": "stdout",
     "output_type": "stream",
     "text": [
      "+-------------------+--------+\n",
      "|               Zone|count(1)|\n",
      "+-------------------+--------+\n",
      "|Crown Heights North|  231279|\n",
      "|       East Village|  221244|\n",
      "|        JFK Airport|  188867|\n",
      "|     Bushwick South|  187929|\n",
      "|      East New York|  186780|\n",
      "+-------------------+--------+\n",
      "\n"
     ]
    },
    {
     "name": "stderr",
     "output_type": "stream",
     "text": [
      "                                                                                \r"
     ]
    }
   ],
   "source": [
    "spark.sql(\"\"\"\n",
    "SELECT\n",
    "    pul.Zone,\n",
    "    COUNT(1)\n",
    "FROM \n",
    "    fhvhv_2021_06 fhv LEFT JOIN zones pul ON fhv.PULocationID = pul.LocationID\n",
    "                      LEFT JOIN zones dol ON fhv.DOLocationID = dol.LocationID\n",
    "GROUP BY \n",
    "    1\n",
    "ORDER BY\n",
    "    2 DESC\n",
    "LIMIT 5;\n",
    "\"\"\").show()"
   ]
  }
 ],
 "metadata": {
  "kernelspec": {
   "display_name": "Python 3 (ipykernel)",
   "language": "python",
   "name": "python3"
  },
  "language_info": {
   "codemirror_mode": {
    "name": "ipython",
    "version": 3
   },
   "file_extension": ".py",
   "mimetype": "text/x-python",
   "name": "python",
   "nbconvert_exporter": "python",
   "pygments_lexer": "ipython3",
   "version": "3.9.2"
  }
 },
 "nbformat": 4,
 "nbformat_minor": 5
}
